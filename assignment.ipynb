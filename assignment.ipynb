{
 "cells": [
  {
   "cell_type": "code",
   "execution_count": 1,
   "id": "5f9d75dd",
   "metadata": {},
   "outputs": [],
   "source": [
    "import pandas as pd\n",
    "import os\n",
    "import seaborn as sns\n",
    "import numpy as np \n",
    "import matplotlib.pyplot as plt"
   ]
  },
  {
   "cell_type": "code",
   "execution_count": 2,
   "id": "ec693bb2",
   "metadata": {},
   "outputs": [],
   "source": [
    "os.chdir('C:\\\\businenss analysis and saftware\\\\data')"
   ]
  },
  {
   "cell_type": "code",
   "execution_count": 3,
   "id": "f7fef011",
   "metadata": {},
   "outputs": [],
   "source": [
    "e1 = pd.read_excel('Data Exhibit 1.xlsx')"
   ]
  },
  {
   "cell_type": "code",
   "execution_count": 4,
   "id": "22ddff11",
   "metadata": {
    "scrolled": false
   },
   "outputs": [
    {
     "data": {
      "text/html": [
       "<div>\n",
       "<style scoped>\n",
       "    .dataframe tbody tr th:only-of-type {\n",
       "        vertical-align: middle;\n",
       "    }\n",
       "\n",
       "    .dataframe tbody tr th {\n",
       "        vertical-align: top;\n",
       "    }\n",
       "\n",
       "    .dataframe thead th {\n",
       "        text-align: right;\n",
       "    }\n",
       "</style>\n",
       "<table border=\"1\" class=\"dataframe\">\n",
       "  <thead>\n",
       "    <tr style=\"text-align: right;\">\n",
       "      <th></th>\n",
       "      <th>R36 Car No.</th>\n",
       "      <th>R36 Mileage</th>\n",
       "      <th>R36 Top speed</th>\n",
       "      <th>M32 Car No.</th>\n",
       "      <th>M32 Mileage</th>\n",
       "      <th>M32 top speed</th>\n",
       "    </tr>\n",
       "  </thead>\n",
       "  <tbody>\n",
       "    <tr>\n",
       "      <th>0</th>\n",
       "      <td>1</td>\n",
       "      <td>21.20</td>\n",
       "      <td>151.9</td>\n",
       "      <td>1</td>\n",
       "      <td>15.04</td>\n",
       "      <td>211.3</td>\n",
       "    </tr>\n",
       "    <tr>\n",
       "      <th>1</th>\n",
       "      <td>2</td>\n",
       "      <td>21.79</td>\n",
       "      <td>147.6</td>\n",
       "      <td>2</td>\n",
       "      <td>15.41</td>\n",
       "      <td>207.0</td>\n",
       "    </tr>\n",
       "    <tr>\n",
       "      <th>2</th>\n",
       "      <td>3</td>\n",
       "      <td>21.87</td>\n",
       "      <td>145.6</td>\n",
       "      <td>3</td>\n",
       "      <td>15.43</td>\n",
       "      <td>206.2</td>\n",
       "    </tr>\n",
       "    <tr>\n",
       "      <th>3</th>\n",
       "      <td>4</td>\n",
       "      <td>22.71</td>\n",
       "      <td>136.1</td>\n",
       "      <td>4</td>\n",
       "      <td>15.92</td>\n",
       "      <td>213.4</td>\n",
       "    </tr>\n",
       "    <tr>\n",
       "      <th>4</th>\n",
       "      <td>5</td>\n",
       "      <td>22.52</td>\n",
       "      <td>139.7</td>\n",
       "      <td>5</td>\n",
       "      <td>15.20</td>\n",
       "      <td>204.2</td>\n",
       "    </tr>\n",
       "  </tbody>\n",
       "</table>\n",
       "</div>"
      ],
      "text/plain": [
       "   R36 Car No.  R36 Mileage  R36 Top speed  M32 Car No.  M32 Mileage   \\\n",
       "0            1        21.20          151.9            1         15.04   \n",
       "1            2        21.79          147.6            2         15.41   \n",
       "2            3        21.87          145.6            3         15.43   \n",
       "3            4        22.71          136.1            4         15.92   \n",
       "4            5        22.52          139.7            5         15.20   \n",
       "\n",
       "   M32 top speed   \n",
       "0           211.3  \n",
       "1           207.0  \n",
       "2           206.2  \n",
       "3           213.4  \n",
       "4           204.2  "
      ]
     },
     "execution_count": 4,
     "metadata": {},
     "output_type": "execute_result"
    }
   ],
   "source": [
    "e1.head()"
   ]
  },
  {
   "cell_type": "code",
   "execution_count": 5,
   "id": "bfe1122b",
   "metadata": {},
   "outputs": [],
   "source": [
    "re2 = pd.read_excel('DE 2 Rocinante 36.xlsx')"
   ]
  },
  {
   "cell_type": "code",
   "execution_count": 6,
   "id": "4f9402fb",
   "metadata": {},
   "outputs": [
    {
     "data": {
      "text/html": [
       "<div>\n",
       "<style scoped>\n",
       "    .dataframe tbody tr th:only-of-type {\n",
       "        vertical-align: middle;\n",
       "    }\n",
       "\n",
       "    .dataframe tbody tr th {\n",
       "        vertical-align: top;\n",
       "    }\n",
       "\n",
       "    .dataframe thead th {\n",
       "        text-align: right;\n",
       "    }\n",
       "</style>\n",
       "<table border=\"1\" class=\"dataframe\">\n",
       "  <thead>\n",
       "    <tr style=\"text-align: right;\">\n",
       "      <th></th>\n",
       "      <th>Cars</th>\n",
       "      <th>Sales \\n(in 1,000 units)</th>\n",
       "      <th>Price\\n(in lakh rupees)</th>\n",
       "      <th>Mileage\\n(Km/ltr)</th>\n",
       "      <th>Top speed (Km/hr)</th>\n",
       "    </tr>\n",
       "  </thead>\n",
       "  <tbody>\n",
       "    <tr>\n",
       "      <th>0</th>\n",
       "      <td>Rocinante 1</td>\n",
       "      <td>171.877</td>\n",
       "      <td>6.1</td>\n",
       "      <td>15.8</td>\n",
       "      <td>168.2</td>\n",
       "    </tr>\n",
       "    <tr>\n",
       "      <th>1</th>\n",
       "      <td>Rocinante 2</td>\n",
       "      <td>139.796</td>\n",
       "      <td>6.1</td>\n",
       "      <td>12.1</td>\n",
       "      <td>149.6</td>\n",
       "    </tr>\n",
       "    <tr>\n",
       "      <th>2</th>\n",
       "      <td>Rocinante 3</td>\n",
       "      <td>178.947</td>\n",
       "      <td>9.9</td>\n",
       "      <td>17.0</td>\n",
       "      <td>173.4</td>\n",
       "    </tr>\n",
       "    <tr>\n",
       "      <th>3</th>\n",
       "      <td>Rocinante 4</td>\n",
       "      <td>140.022</td>\n",
       "      <td>5.8</td>\n",
       "      <td>11.6</td>\n",
       "      <td>170.6</td>\n",
       "    </tr>\n",
       "    <tr>\n",
       "      <th>4</th>\n",
       "      <td>Rocinante 5</td>\n",
       "      <td>186.476</td>\n",
       "      <td>10.0</td>\n",
       "      <td>17.2</td>\n",
       "      <td>175.0</td>\n",
       "    </tr>\n",
       "  </tbody>\n",
       "</table>\n",
       "</div>"
      ],
      "text/plain": [
       "          Cars  Sales \\n(in 1,000 units)  Price\\n(in lakh rupees)  \\\n",
       "0  Rocinante 1                   171.877                      6.1   \n",
       "1  Rocinante 2                   139.796                      6.1   \n",
       "2  Rocinante 3                   178.947                      9.9   \n",
       "3  Rocinante 4                   140.022                      5.8   \n",
       "4  Rocinante 5                   186.476                     10.0   \n",
       "\n",
       "   Mileage\\n(Km/ltr)  Top speed (Km/hr)  \n",
       "0               15.8              168.2  \n",
       "1               12.1              149.6  \n",
       "2               17.0              173.4  \n",
       "3               11.6              170.6  \n",
       "4               17.2              175.0  "
      ]
     },
     "execution_count": 6,
     "metadata": {},
     "output_type": "execute_result"
    }
   ],
   "source": [
    "re2.head()"
   ]
  },
  {
   "cell_type": "code",
   "execution_count": 7,
   "id": "f4112d95",
   "metadata": {},
   "outputs": [],
   "source": [
    "me2 = pd.read_excel('DE 2 Marengo32.xlsx')"
   ]
  },
  {
   "cell_type": "code",
   "execution_count": 8,
   "id": "dc6879fe",
   "metadata": {},
   "outputs": [
    {
     "data": {
      "text/html": [
       "<div>\n",
       "<style scoped>\n",
       "    .dataframe tbody tr th:only-of-type {\n",
       "        vertical-align: middle;\n",
       "    }\n",
       "\n",
       "    .dataframe tbody tr th {\n",
       "        vertical-align: top;\n",
       "    }\n",
       "\n",
       "    .dataframe thead th {\n",
       "        text-align: right;\n",
       "    }\n",
       "</style>\n",
       "<table border=\"1\" class=\"dataframe\">\n",
       "  <thead>\n",
       "    <tr style=\"text-align: right;\">\n",
       "      <th></th>\n",
       "      <th>Cars</th>\n",
       "      <th>Sales \\n(in 1,000 units)</th>\n",
       "      <th>Price\\n(in lakh rupees)</th>\n",
       "      <th>Mileage\\n(Km/ltr)</th>\n",
       "      <th>Top speed (Km/hr)</th>\n",
       "    </tr>\n",
       "  </thead>\n",
       "  <tbody>\n",
       "    <tr>\n",
       "      <th>0</th>\n",
       "      <td>Marengo 1</td>\n",
       "      <td>20.896</td>\n",
       "      <td>42.5</td>\n",
       "      <td>9.3</td>\n",
       "      <td>199.4</td>\n",
       "    </tr>\n",
       "    <tr>\n",
       "      <th>1</th>\n",
       "      <td>Marengo 2</td>\n",
       "      <td>31.048</td>\n",
       "      <td>36.0</td>\n",
       "      <td>9.7</td>\n",
       "      <td>235.2</td>\n",
       "    </tr>\n",
       "    <tr>\n",
       "      <th>2</th>\n",
       "      <td>Marengo 3</td>\n",
       "      <td>29.904</td>\n",
       "      <td>54.7</td>\n",
       "      <td>16.6</td>\n",
       "      <td>240.8</td>\n",
       "    </tr>\n",
       "    <tr>\n",
       "      <th>3</th>\n",
       "      <td>Marengo 4</td>\n",
       "      <td>28.792</td>\n",
       "      <td>42.7</td>\n",
       "      <td>11.7</td>\n",
       "      <td>232.5</td>\n",
       "    </tr>\n",
       "    <tr>\n",
       "      <th>4</th>\n",
       "      <td>Marengo 5</td>\n",
       "      <td>16.776</td>\n",
       "      <td>44.9</td>\n",
       "      <td>13.7</td>\n",
       "      <td>188.8</td>\n",
       "    </tr>\n",
       "  </tbody>\n",
       "</table>\n",
       "</div>"
      ],
      "text/plain": [
       "        Cars  Sales \\n(in 1,000 units)  Price\\n(in lakh rupees)  \\\n",
       "0  Marengo 1                    20.896                     42.5   \n",
       "1  Marengo 2                    31.048                     36.0   \n",
       "2  Marengo 3                    29.904                     54.7   \n",
       "3  Marengo 4                    28.792                     42.7   \n",
       "4  Marengo 5                    16.776                     44.9   \n",
       "\n",
       "   Mileage\\n(Km/ltr)  Top speed (Km/hr)  \n",
       "0                9.3              199.4  \n",
       "1                9.7              235.2  \n",
       "2               16.6              240.8  \n",
       "3               11.7              232.5  \n",
       "4               13.7              188.8  "
      ]
     },
     "execution_count": 8,
     "metadata": {},
     "output_type": "execute_result"
    }
   ],
   "source": [
    "me2.head()"
   ]
  },
  {
   "cell_type": "markdown",
   "id": "d9a355c8",
   "metadata": {},
   "source": [
    "### Q2) T-Test"
   ]
  },
  {
   "cell_type": "code",
   "execution_count": 9,
   "id": "12f41e29",
   "metadata": {},
   "outputs": [],
   "source": [
    "import numpy as np\n",
    "import scipy as scipy \n",
    "from scipy import stats"
   ]
  },
  {
   "cell_type": "markdown",
   "id": "d95e4867",
   "metadata": {},
   "source": [
    "##### Rocinante36 Mileage"
   ]
  },
  {
   "cell_type": "code",
   "execution_count": 10,
   "id": "6ee1b125",
   "metadata": {},
   "outputs": [],
   "source": [
    "rmdata = e1['R36 Mileage']"
   ]
  },
  {
   "cell_type": "code",
   "execution_count": 11,
   "id": "4b1fbbc8",
   "metadata": {},
   "outputs": [
    {
     "data": {
      "text/plain": [
       "TtestResult(statistic=-1.8350746065984094, pvalue=0.08220024707686456, df=19)"
      ]
     },
     "execution_count": 11,
     "metadata": {},
     "output_type": "execute_result"
    }
   ],
   "source": [
    "stats.ttest_1samp(rmdata,22)"
   ]
  },
  {
   "cell_type": "markdown",
   "id": "16d63e7b",
   "metadata": {},
   "source": [
    "##### Rocinante36 Top Speed"
   ]
  },
  {
   "cell_type": "code",
   "execution_count": 12,
   "id": "9cc1903d",
   "metadata": {},
   "outputs": [],
   "source": [
    "rtdata = e1['R36 Top speed']"
   ]
  },
  {
   "cell_type": "code",
   "execution_count": 13,
   "id": "9e014454",
   "metadata": {},
   "outputs": [
    {
     "data": {
      "text/plain": [
       "TtestResult(statistic=0.803602305363553, pvalue=0.43156615071637905, df=19)"
      ]
     },
     "execution_count": 13,
     "metadata": {},
     "output_type": "execute_result"
    }
   ],
   "source": [
    "stats.ttest_1samp(rtdata,140)"
   ]
  },
  {
   "cell_type": "markdown",
   "id": "02ebdad3",
   "metadata": {},
   "source": [
    "#### Marengo32 Mileage"
   ]
  },
  {
   "cell_type": "code",
   "execution_count": 14,
   "id": "0340ec9b",
   "metadata": {},
   "outputs": [
    {
     "name": "stdout",
     "output_type": "stream",
     "text": [
      "Column not found\n"
     ]
    }
   ],
   "source": [
    "if 'M32 top speed' in e1.columns:\n",
    "    print(e1['M32 top speed'])\n",
    "else:\n",
    "    print(\"Column not found\")\n"
   ]
  },
  {
   "cell_type": "code",
   "execution_count": 15,
   "id": "c16deaca",
   "metadata": {},
   "outputs": [],
   "source": [
    "e1.columns = e1.columns.str.strip()"
   ]
  },
  {
   "cell_type": "code",
   "execution_count": 16,
   "id": "f1904649",
   "metadata": {
    "collapsed": true
   },
   "outputs": [
    {
     "data": {
      "text/plain": [
       "0     211.3\n",
       "1     207.0\n",
       "2     206.2\n",
       "3     213.4\n",
       "4     204.2\n",
       "5     208.7\n",
       "6     200.0\n",
       "7     210.9\n",
       "8     208.5\n",
       "9     214.2\n",
       "10    215.8\n",
       "11    215.8\n",
       "12    215.2\n",
       "13    218.7\n",
       "14    208.0\n",
       "15    212.2\n",
       "16    219.7\n",
       "17    216.4\n",
       "18    205.8\n",
       "19    209.0\n",
       "Name: M32 top speed, dtype: float64"
      ]
     },
     "execution_count": 16,
     "metadata": {},
     "output_type": "execute_result"
    }
   ],
   "source": [
    "e1[\"M32 top speed\"]"
   ]
  },
  {
   "cell_type": "code",
   "execution_count": 17,
   "id": "5035169c",
   "metadata": {
    "scrolled": true
   },
   "outputs": [],
   "source": [
    "mmdata = e1[\"M32 top speed\"]"
   ]
  },
  {
   "cell_type": "code",
   "execution_count": 18,
   "id": "fd4fe07e",
   "metadata": {},
   "outputs": [],
   "source": [
    "e1.columns = e1.columns.str.strip()  # This removes any leading/trailing spaces from the column names\n"
   ]
  },
  {
   "cell_type": "code",
   "execution_count": 19,
   "id": "06d75dfc",
   "metadata": {},
   "outputs": [
    {
     "data": {
      "text/plain": [
       "TtestResult(statistic=170.36642627794527, pvalue=1.014245488010321e-31, df=19)"
      ]
     },
     "execution_count": 19,
     "metadata": {},
     "output_type": "execute_result"
    }
   ],
   "source": [
    "stats.ttest_1samp(mmdata,15)"
   ]
  },
  {
   "cell_type": "markdown",
   "id": "ee75d03d",
   "metadata": {},
   "source": [
    "#### Marengo32 Top Speed"
   ]
  },
  {
   "cell_type": "code",
   "execution_count": 20,
   "id": "feebe5c6",
   "metadata": {},
   "outputs": [],
   "source": [
    "mtdata = e1['M32 top speed']"
   ]
  },
  {
   "cell_type": "code",
   "execution_count": 21,
   "id": "6e7397a8",
   "metadata": {},
   "outputs": [
    {
     "data": {
      "text/plain": [
       "TtestResult(statistic=0.9124445171733968, pvalue=0.3729676712183989, df=19)"
      ]
     },
     "execution_count": 21,
     "metadata": {},
     "output_type": "execute_result"
    }
   ],
   "source": [
    "stats.ttest_1samp(mtdata,210)"
   ]
  },
  {
   "cell_type": "code",
   "execution_count": null,
   "id": "e6afbe56",
   "metadata": {},
   "outputs": [],
   "source": []
  },
  {
   "cell_type": "markdown",
   "id": "4266d553",
   "metadata": {},
   "source": [
    "## Q4) Reggrestion "
   ]
  },
  {
   "cell_type": "markdown",
   "id": "f80eb0c7",
   "metadata": {},
   "source": [
    "### Reggresion equation for Rocinante36"
   ]
  },
  {
   "cell_type": "code",
   "execution_count": 22,
   "id": "2a92eba8",
   "metadata": {},
   "outputs": [],
   "source": [
    "import statsmodels.api as sm"
   ]
  },
  {
   "cell_type": "code",
   "execution_count": 23,
   "id": "3c27b994",
   "metadata": {},
   "outputs": [
    {
     "name": "stdout",
     "output_type": "stream",
     "text": [
      "                               OLS Regression Results                              \n",
      "===================================================================================\n",
      "Dep. Variable:     Sales \n",
      "(in 1,000 units)   R-squared:                       0.996\n",
      "Model:                                 OLS   Adj. R-squared:                  0.995\n",
      "Method:                      Least Squares   F-statistic:                     2430.\n",
      "Date:                     Thu, 24 Oct 2024   Prob (F-statistic):           7.45e-37\n",
      "Time:                             17:16:48   Log-Likelihood:                -76.809\n",
      "No. Observations:                       35   AIC:                             161.6\n",
      "Df Residuals:                           31   BIC:                             167.8\n",
      "Df Model:                                3                                         \n",
      "Covariance Type:                 nonrobust                                         \n",
      "==========================================================================================\n",
      "                             coef    std err          t      P>|t|      [0.025      0.975]\n",
      "------------------------------------------------------------------------------------------\n",
      "const                     50.7231      5.292      9.585      0.000      39.930      61.516\n",
      "Price\n",
      "(in lakh rupees)    -0.7950      0.254     -3.126      0.004      -1.314      -0.276\n",
      "Mileage\n",
      "(Km/ltr)           8.3063      0.100     82.913      0.000       8.102       8.511\n",
      "Top speed (Km/hr)         -0.0186      0.031     -0.608      0.548      -0.081       0.044\n",
      "==============================================================================\n",
      "Omnibus:                        2.817   Durbin-Watson:                   1.655\n",
      "Prob(Omnibus):                  0.245   Jarque-Bera (JB):                2.103\n",
      "Skew:                           0.600   Prob(JB):                        0.349\n",
      "Kurtosis:                       3.030   Cond. No.                     2.23e+03\n",
      "==============================================================================\n",
      "\n",
      "Notes:\n",
      "[1] Standard Errors assume that the covariance matrix of the errors is correctly specified.\n",
      "[2] The condition number is large, 2.23e+03. This might indicate that there are\n",
      "strong multicollinearity or other numerical problems.\n"
     ]
    }
   ],
   "source": [
    "# Convert to DataFrame\n",
    "df = pd.DataFrame(re2)\n",
    "\n",
    "# Independent variables (Price, Mileage, Top Speed)\n",
    "X = df[['Price\\n(in lakh rupees)','Mileage\\n(Km/ltr)', 'Top speed (Km/hr)']]\n",
    "\n",
    "# Dependent variable (Sales)\n",
    "y = df['Sales \\n(in 1,000 units)']\n",
    "\n",
    "# Add constant (intercept) to the model\n",
    "X = sm.add_constant(X)\n",
    "\n",
    "# Fit the regression model\n",
    "model = sm.OLS(y, X).fit()\n",
    "\n",
    "# Display the model summary\n",
    "print(model.summary())"
   ]
  },
  {
   "cell_type": "code",
   "execution_count": 24,
   "id": "02277c78",
   "metadata": {},
   "outputs": [
    {
     "data": {
      "text/plain": [
       "72.86040000000001"
      ]
     },
     "execution_count": 24,
     "metadata": {},
     "output_type": "execute_result"
    }
   ],
   "source": [
    "# predicted sales\n",
    "# Sales=50.7231−0.7950⋅Price+8.3063⋅Mileage−0.0186⋅Top speed\n",
    "50.7231 + (- 0.7950*7)+(8.3063+22)+(- 0.0186*140)"
   ]
  },
  {
   "cell_type": "markdown",
   "id": "561453db",
   "metadata": {},
   "source": [
    "### Reggresion equation for Marengo32 "
   ]
  },
  {
   "cell_type": "code",
   "execution_count": 25,
   "id": "cfd1e105",
   "metadata": {},
   "outputs": [],
   "source": [
    "# convert to dataframe \n",
    "df = pd.DataFrame(me2)"
   ]
  },
  {
   "cell_type": "code",
   "execution_count": 26,
   "id": "77fc228e",
   "metadata": {},
   "outputs": [],
   "source": [
    "# Independent variables (Price, Mileage, Top Speed)\n",
    "X = df[['Price\\n(in lakh rupees)','Mileage\\n(Km/ltr)', 'Top speed (Km/hr)']]"
   ]
  },
  {
   "cell_type": "code",
   "execution_count": 27,
   "id": "ef0d9b91",
   "metadata": {},
   "outputs": [],
   "source": [
    "# Dependent variable (Sales)\n",
    "y = df['Sales \\n(in 1,000 units)']"
   ]
  },
  {
   "cell_type": "code",
   "execution_count": 28,
   "id": "5d205b39",
   "metadata": {},
   "outputs": [],
   "source": [
    "# Add constant (intercept) to the model\n",
    "X = sm.add_constant(X)"
   ]
  },
  {
   "cell_type": "code",
   "execution_count": 29,
   "id": "d9a6637f",
   "metadata": {},
   "outputs": [],
   "source": [
    "# Fit the regression model\n",
    "model = sm.OLS(y, X).fit()"
   ]
  },
  {
   "cell_type": "code",
   "execution_count": 30,
   "id": "5de7cc1c",
   "metadata": {},
   "outputs": [
    {
     "name": "stdout",
     "output_type": "stream",
     "text": [
      "                               OLS Regression Results                              \n",
      "===================================================================================\n",
      "Dep. Variable:     Sales \n",
      "(in 1,000 units)   R-squared:                       0.863\n",
      "Model:                                 OLS   Adj. R-squared:                  0.848\n",
      "Method:                      Least Squares   F-statistic:                     56.74\n",
      "Date:                     Thu, 24 Oct 2024   Prob (F-statistic):           8.74e-12\n",
      "Time:                             17:16:48   Log-Likelihood:                -67.757\n",
      "No. Observations:                       31   AIC:                             143.5\n",
      "Df Residuals:                           27   BIC:                             149.2\n",
      "Df Model:                                3                                         \n",
      "Covariance Type:                 nonrobust                                         \n",
      "==========================================================================================\n",
      "                             coef    std err          t      P>|t|      [0.025      0.975]\n",
      "------------------------------------------------------------------------------------------\n",
      "const                    -13.4476      4.454     -3.019      0.005     -22.586      -4.309\n",
      "Price\n",
      "(in lakh rupees)    -0.1867      0.055     -3.368      0.002      -0.300      -0.073\n",
      "Mileage\n",
      "(Km/ltr)           0.0413      0.207      0.200      0.843      -0.383       0.465\n",
      "Top speed (Km/hr)          0.2208      0.017     12.820      0.000       0.185       0.256\n",
      "==============================================================================\n",
      "Omnibus:                        2.082   Durbin-Watson:                   1.649\n",
      "Prob(Omnibus):                  0.353   Jarque-Bera (JB):                1.181\n",
      "Skew:                          -0.071   Prob(JB):                        0.554\n",
      "Kurtosis:                       2.054   Cond. No.                     2.30e+03\n",
      "==============================================================================\n",
      "\n",
      "Notes:\n",
      "[1] Standard Errors assume that the covariance matrix of the errors is correctly specified.\n",
      "[2] The condition number is large, 2.3e+03. This might indicate that there are\n",
      "strong multicollinearity or other numerical problems.\n"
     ]
    }
   ],
   "source": [
    "# Display the model summary\n",
    "print(model.summary())"
   ]
  },
  {
   "cell_type": "code",
   "execution_count": 31,
   "id": "f21bd552",
   "metadata": {},
   "outputs": [
    {
     "data": {
      "text/plain": [
       "25.8852"
      ]
     },
     "execution_count": 31,
     "metadata": {},
     "output_type": "execute_result"
    }
   ],
   "source": [
    "# Predicted Sale\n",
    "# Sales=−13.4476−0.1867⋅Price+0.0413⋅Mileage+0.2208⋅Top speed\n",
    "-13.4476+ (-0.1867*41)+ (0.0413*15)+ (0.2208*210)"
   ]
  },
  {
   "cell_type": "markdown",
   "id": "9a539203",
   "metadata": {},
   "source": [
    "## Q5) Overall Predicted Profit"
   ]
  },
  {
   "cell_type": "markdown",
   "id": "f82daca6",
   "metadata": {},
   "source": [
    "### Rocinante36"
   ]
  },
  {
   "cell_type": "code",
   "execution_count": 32,
   "id": "71deee80",
   "metadata": {},
   "outputs": [
    {
     "data": {
      "text/plain": [
       "511"
      ]
     },
     "execution_count": 32,
     "metadata": {},
     "output_type": "execute_result"
    }
   ],
   "source": [
    "### Overall predicted sales \n",
    "73*7"
   ]
  },
  {
   "cell_type": "code",
   "execution_count": 33,
   "id": "cbb48657",
   "metadata": {},
   "outputs": [
    {
     "data": {
      "text/plain": [
       "438"
      ]
     },
     "execution_count": 33,
     "metadata": {},
     "output_type": "execute_result"
    }
   ],
   "source": [
    "### Overall predicted cost\n",
    "73*6"
   ]
  },
  {
   "cell_type": "code",
   "execution_count": 34,
   "id": "2a8eb73d",
   "metadata": {},
   "outputs": [
    {
     "data": {
      "text/plain": [
       "73"
      ]
     },
     "execution_count": 34,
     "metadata": {},
     "output_type": "execute_result"
    }
   ],
   "source": [
    "### Overall predicted profit(in lacks)\n",
    "511-438"
   ]
  },
  {
   "cell_type": "markdown",
   "id": "099d6124",
   "metadata": {},
   "source": [
    "###  Marengo32"
   ]
  },
  {
   "cell_type": "code",
   "execution_count": 35,
   "id": "7a8ad70c",
   "metadata": {},
   "outputs": [
    {
     "data": {
      "text/plain": [
       "1066"
      ]
     },
     "execution_count": 35,
     "metadata": {},
     "output_type": "execute_result"
    }
   ],
   "source": [
    "### Overall predicted sales \n",
    "26*41"
   ]
  },
  {
   "cell_type": "code",
   "execution_count": 36,
   "id": "7d119b2a",
   "metadata": {},
   "outputs": [
    {
     "data": {
      "text/plain": [
       "858"
      ]
     },
     "execution_count": 36,
     "metadata": {},
     "output_type": "execute_result"
    }
   ],
   "source": [
    "### Overall predicted cost\n",
    "26*33"
   ]
  },
  {
   "cell_type": "code",
   "execution_count": 37,
   "id": "f1f54473",
   "metadata": {},
   "outputs": [
    {
     "data": {
      "text/plain": [
       "208"
      ]
     },
     "execution_count": 37,
     "metadata": {},
     "output_type": "execute_result"
    }
   ],
   "source": [
    "### Overall predicted profit(in lacks)\n",
    "1066-858"
   ]
  },
  {
   "cell_type": "markdown",
   "id": "a012d79e",
   "metadata": {},
   "source": [
    "## Q8)"
   ]
  },
  {
   "cell_type": "code",
   "execution_count": 38,
   "id": "993e014c",
   "metadata": {},
   "outputs": [
    {
     "name": "stdout",
     "output_type": "stream",
     "text": [
      "                               OLS Regression Results                              \n",
      "===================================================================================\n",
      "Dep. Variable:     Sales \n",
      "(in 1,000 units)   R-squared:                       0.996\n",
      "Model:                                 OLS   Adj. R-squared:                  0.995\n",
      "Method:                      Least Squares   F-statistic:                     3718.\n",
      "Date:                     Thu, 24 Oct 2024   Prob (F-statistic):           1.29e-38\n",
      "Time:                             21:36:14   Log-Likelihood:                -77.017\n",
      "No. Observations:                       35   AIC:                             160.0\n",
      "Df Residuals:                           32   BIC:                             164.7\n",
      "Df Model:                                2                                         \n",
      "Covariance Type:                 nonrobust                                         \n",
      "==========================================================================================\n",
      "                             coef    std err          t      P>|t|      [0.025      0.975]\n",
      "------------------------------------------------------------------------------------------\n",
      "const                     47.7800      2.113     22.608      0.000      43.475      52.085\n",
      "Price\n",
      "(in lakh rupees)    -0.7829      0.251     -3.119      0.004      -1.294      -0.272\n",
      "Mileage\n",
      "(Km/ltr)           8.2945      0.097     85.257      0.000       8.096       8.493\n",
      "==============================================================================\n",
      "Omnibus:                        1.906   Durbin-Watson:                   1.656\n",
      "Prob(Omnibus):                  0.386   Jarque-Bera (JB):                1.567\n",
      "Skew:                           0.509   Prob(JB):                        0.457\n",
      "Kurtosis:                       2.805   Cond. No.                         91.0\n",
      "==============================================================================\n",
      "\n",
      "Notes:\n",
      "[1] Standard Errors assume that the covariance matrix of the errors is correctly specified.\n"
     ]
    }
   ],
   "source": [
    "### from Q4 we can get significant and not signifocant variable fron regression \n",
    "\n",
    "### for Rocinante36 model price and milleage are significant but top speed are not significant \n",
    "\n",
    "df = pd.DataFrame(re2)\n",
    "\n",
    "X = df[['Price\\n(in lakh rupees)','Mileage\\n(Km/ltr)']]\n",
    "\n",
    "y = df['Sales \\n(in 1,000 units)']\n",
    "\n",
    "X = sm.add_constant(X)\n",
    "\n",
    "model = sm.OLS(y, X).fit()\n",
    "\n",
    "print(model.summary())"
   ]
  },
  {
   "cell_type": "code",
   "execution_count": 39,
   "id": "d9cb60a3",
   "metadata": {
    "collapsed": true
   },
   "outputs": [
    {
     "name": "stdout",
     "output_type": "stream",
     "text": [
      "                               OLS Regression Results                              \n",
      "===================================================================================\n",
      "Dep. Variable:     Sales \n",
      "(in 1,000 units)   R-squared:                       0.863\n",
      "Model:                                 OLS   Adj. R-squared:                  0.853\n",
      "Method:                      Least Squares   F-statistic:                     88.10\n",
      "Date:                     Thu, 24 Oct 2024   Prob (F-statistic):           8.30e-13\n",
      "Time:                             21:40:39   Log-Likelihood:                -67.779\n",
      "No. Observations:                       31   AIC:                             141.6\n",
      "Df Residuals:                           28   BIC:                             145.9\n",
      "Df Model:                                2                                         \n",
      "Covariance Type:                 nonrobust                                         \n",
      "==========================================================================================\n",
      "                             coef    std err          t      P>|t|      [0.025      0.975]\n",
      "------------------------------------------------------------------------------------------\n",
      "const                    -12.9701      3.694     -3.511      0.002     -20.536      -5.404\n",
      "Price\n",
      "(in lakh rupees)    -0.1825      0.050     -3.627      0.001      -0.286      -0.079\n",
      "Top speed (Km/hr)          0.2201      0.017     13.254      0.000       0.186       0.254\n",
      "==============================================================================\n",
      "Omnibus:                        2.394   Durbin-Watson:                   1.650\n",
      "Prob(Omnibus):                  0.302   Jarque-Bera (JB):                1.258\n",
      "Skew:                          -0.059   Prob(JB):                        0.533\n",
      "Kurtosis:                       2.020   Cond. No.                     1.94e+03\n",
      "==============================================================================\n",
      "\n",
      "Notes:\n",
      "[1] Standard Errors assume that the covariance matrix of the errors is correctly specified.\n",
      "[2] The condition number is large, 1.94e+03. This might indicate that there are\n",
      "strong multicollinearity or other numerical problems.\n"
     ]
    }
   ],
   "source": [
    "### for Marengo32  model price and top speed are significant but millaege are not significant \n",
    "\n",
    "df = pd.DataFrame(me2)\n",
    "\n",
    "X = df[['Price\\n(in lakh rupees)', 'Top speed (Km/hr)']]\n",
    "\n",
    "y = df['Sales \\n(in 1,000 units)']\n",
    "\n",
    "X = sm.add_constant(X)\n",
    "\n",
    "model = sm.OLS(y, X).fit()\n",
    "\n",
    "print(model.summary())"
   ]
  },
  {
   "cell_type": "code",
   "execution_count": null,
   "id": "2f2aa67c",
   "metadata": {},
   "outputs": [],
   "source": []
  }
 ],
 "metadata": {
  "kernelspec": {
   "display_name": "Python 3 (ipykernel)",
   "language": "python",
   "name": "python3"
  },
  "language_info": {
   "codemirror_mode": {
    "name": "ipython",
    "version": 3
   },
   "file_extension": ".py",
   "mimetype": "text/x-python",
   "name": "python",
   "nbconvert_exporter": "python",
   "pygments_lexer": "ipython3",
   "version": "3.11.5"
  }
 },
 "nbformat": 4,
 "nbformat_minor": 5
}
